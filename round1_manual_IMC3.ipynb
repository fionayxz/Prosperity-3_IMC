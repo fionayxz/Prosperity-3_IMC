{
  "nbformat": 4,
  "nbformat_minor": 0,
  "metadata": {
    "colab": {
      "provenance": []
    },
    "kernelspec": {
      "name": "python3",
      "display_name": "Python 3"
    },
    "language_info": {
      "name": "python"
    }
  },
  "cells": [
    {
      "cell_type": "code",
      "execution_count": null,
      "metadata": {
        "id": "3Z-DRvKw-VLO"
      },
      "outputs": [],
      "source": [
        "import numpy as np\n",
        "import itertools\n",
        "import math"
      ]
    },
    {
      "cell_type": "code",
      "source": [
        "\n",
        "matrix = np.array([[1, 1.34, 1.98, 0.64],\n",
        "                  [0.72, 1, 1.45, 0.52],\n",
        "                  [0.48, 0.7, 1, 0.31],\n",
        "                  [1.49, 1.95, 3.1, 1]\n",
        "                 ])\n",
        "\n",
        "#The corresponding item to each index in the matrix\n",
        "products = {0:'Seashell', 1:'Snowball', 2:'Pizza', 3:'Sillicone Nugget'}"
      ],
      "metadata": {
        "id": "IJIUWSNT-Wdz"
      },
      "execution_count": null,
      "outputs": []
    },
    {
      "cell_type": "code",
      "source": [
        "matrix[1,2]"
      ],
      "metadata": {
        "colab": {
          "base_uri": "https://localhost:8080/"
        },
        "id": "N54OeqDZGshd",
        "outputId": "c7047782-5bca-407c-b165-145f1d97d19b"
      },
      "execution_count": null,
      "outputs": [
        {
          "output_type": "execute_result",
          "data": {
            "text/plain": [
              "np.float64(1.45)"
            ]
          },
          "metadata": {},
          "execution_count": 21
        }
      ]
    },
    {
      "cell_type": "code",
      "source": [
        "#A function to compute rate of returns after trades\n",
        "def rate_of_return(trade_seq):\n",
        "    if not trade_seq:\n",
        "        return 1\n",
        "#multiply rates of the first trade and last trade where we convert from seashells, then back to seashells\n",
        "    prod = 1\n",
        "    prod *= matrix[0, trade_seq[0]] * matrix[trade_seq[-1], 0]\n",
        "\n",
        "#multiply the trades inbetween\n",
        "    for i in range(len(trade_seq)-1):\n",
        "        prod *= matrix[trade_seq[i], trade_seq[i+1]]\n",
        "\n",
        "    return prod #Final rate of return"
      ],
      "metadata": {
        "id": "XsO_-P_o_ylE"
      },
      "execution_count": null,
      "outputs": []
    },
    {
      "cell_type": "code",
      "source": [
        "def maximize(L):\n",
        "    max_val = float('-inf') #starting with the smallest value\n",
        "    argmax = []\n",
        "\n",
        "# Generate tuples of 5, which represent the trades\n",
        "    for trade_seq in itertools.product(range(4), repeat=L):\n",
        "        max_rate = rate_of_return(trade_seq)\n",
        "\n",
        "        if math.isclose(max_rate, max_val): #default tolerance is 1e-9\n",
        "            argmax.append(trade_seq)\n",
        "\n",
        "# If the current max rate of return is bigger than the previous value, then replace argmax with current sequence of trades\n",
        "        elif max_rate > max_val:\n",
        "            max_val = max_rate\n",
        "            argmax = [trade_seq]\n",
        "\n",
        "    return argmax, max_val"
      ],
      "metadata": {
        "id": "ikp7LfJg__yo"
      },
      "execution_count": null,
      "outputs": []
    },
    {
      "cell_type": "code",
      "source": [
        "for L in range(0,5):\n",
        "  trade_seq, max_val = maximize(L)\n",
        "  print(\"Sequence\", trade_seq)\n",
        "  print(\"Rate of return\", max_val)"
      ],
      "metadata": {
        "colab": {
          "base_uri": "https://localhost:8080/"
        },
        "id": "jyF7FeGQAFA_",
        "outputId": "37b52d2a-8328-4f52-bd1a-abbcd3f5658f"
      },
      "execution_count": null,
      "outputs": [
        {
          "output_type": "stream",
          "name": "stdout",
          "text": [
            "Sequence [()]\n",
            "Rate of return 1\n",
            "Sequence [(0,)]\n",
            "Rate of return 1.0\n",
            "Sequence [(1, 3)]\n",
            "Rate of return 1.038232\n",
            "Sequence [(2, 1, 3)]\n",
            "Rate of return 1.0738728\n",
            "Sequence [(1, 3, 2, 1)]\n",
            "Rate of return 1.0886803200000001\n"
          ]
        }
      ]
    },
    {
      "cell_type": "code",
      "source": [
        "\n",
        "argmax, _ = maximize(4)\n",
        "print(\"Optimal sequence of trades:\")\n",
        "#\n",
        "for trade_seq in argmax:\n",
        "    res = ' -> '.join([products[0]] + [products[i] for i in trade_seq] + [products[0]])\n",
        "    print(res)\n",
        "print(\"Final rate of return: \", max_val)"
      ],
      "metadata": {
        "colab": {
          "base_uri": "https://localhost:8080/"
        },
        "id": "KyTZGrrZAHMk",
        "outputId": "5e9340d8-4e6a-4d72-fbb8-10af401fda04"
      },
      "execution_count": null,
      "outputs": [
        {
          "output_type": "stream",
          "name": "stdout",
          "text": [
            "Optimal sequence of trades:\n",
            "Seashell -> Snowball -> Sillicone Nugget -> Pizza -> Snowball -> Seashell\n",
            "Final rate of return:  1.0886803200000001\n"
          ]
        }
      ]
    }
  ]
}